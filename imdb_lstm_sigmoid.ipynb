{
 "cells": [
  {
   "cell_type": "markdown",
   "metadata": {},
   "source": [
    "# IMDB를 LSTM으로 학습시키기\n",
    "- IMDB는 인터넷 영화 데이터베이스(Internet Movie Database)에서 가져온 리뷰 5만 개로 이루어져 있다. 이 데이터셋은 훈련 데이터 25,000개와 테스트 데이터 25,000개로 나누어져 있으며 각각 50%는 긍정, 나머지 50%는 부정 리뷰로 구성되어 있다.\n",
    "- IMDB 학습의 목적은 IMDB의 리뷰 텍스트를 기반으로 영화 리뷰를 긍정과 부정으로 분류하는 것이다."
   ]
  },
  {
   "cell_type": "markdown",
   "metadata": {},
   "source": [
    "### 데이터 로딩\n",
    "가장 빈번한 10000개의 단어를 사용"
   ]
  },
  {
   "cell_type": "code",
   "execution_count": 1,
   "metadata": {},
   "outputs": [
    {
     "name": "stderr",
     "output_type": "stream",
     "text": [
      "Using TensorFlow backend.\n"
     ]
    },
    {
     "name": "stdout",
     "output_type": "stream",
     "text": [
      "데이터 로딩...\n",
      "25000 훈련 시퀀스\n",
      "25000 테스트 시퀀스\n"
     ]
    }
   ],
   "source": [
    "from keras.datasets import imdb\n",
    "\n",
    "max_features = 10000\n",
    "maxlen = 500\n",
    "batch_size = 32\n",
    "\n",
    "print('데이터 로딩...')\n",
    "(input_train, y_train), (input_test, y_test) = imdb.load_data(num_words=max_features)\n",
    "print(len(input_train), '훈련 시퀀스')\n",
    "print(len(input_test), '테스트 시퀀스')"
   ]
  },
  {
   "cell_type": "markdown",
   "metadata": {},
   "source": [
    "### 데이터 전처리\n",
    "데이터의 길이를 500으로 맞춘다."
   ]
  },
  {
   "cell_type": "code",
   "execution_count": 2,
   "metadata": {},
   "outputs": [
    {
     "name": "stdout",
     "output_type": "stream",
     "text": [
      "시퀀스 패딩 (samples x time)\n",
      "input_train 크기: (25000, 500)\n",
      "input_test 크기: (25000, 500)\n"
     ]
    }
   ],
   "source": [
    "from keras.preprocessing import sequence\n",
    "\n",
    "print('시퀀스 패딩 (samples x time)')\n",
    "input_train = sequence.pad_sequences(input_train, maxlen=maxlen)\n",
    "input_test = sequence.pad_sequences(input_test, maxlen=maxlen)\n",
    "print('input_train 크기:', input_train.shape)\n",
    "print('input_test 크기:', input_test.shape)"
   ]
  },
  {
   "cell_type": "markdown",
   "metadata": {},
   "source": [
    "### 모델 생성\n",
    "Embedding -> LSTM -> Sigmoid Dense\n",
    "\n",
    "Embedding 층에서는 10000개의 단어가 32개의 시퀀스로 임베딩된다.\n",
    "\n",
    "임베딩된 데이터는 LSTM 층으로 전달되어 RNN으로 처리된다.\n",
    "\n",
    "처리된 데이터는 Sigmoid 함수를 통해 출력되게 된다."
   ]
  },
  {
   "cell_type": "code",
   "execution_count": 3,
   "metadata": {},
   "outputs": [
    {
     "name": "stderr",
     "output_type": "stream",
     "text": [
      "WARNING: Logging before flag parsing goes to stderr.\n",
      "W0805 02:24:16.361418 10752 deprecation_wrapper.py:119] From C:\\Users\\gjbr5\\Anaconda3\\lib\\site-packages\\keras\\backend\\tensorflow_backend.py:74: The name tf.get_default_graph is deprecated. Please use tf.compat.v1.get_default_graph instead.\n",
      "\n",
      "W0805 02:24:16.378919 10752 deprecation_wrapper.py:119] From C:\\Users\\gjbr5\\Anaconda3\\lib\\site-packages\\keras\\backend\\tensorflow_backend.py:517: The name tf.placeholder is deprecated. Please use tf.compat.v1.placeholder instead.\n",
      "\n",
      "W0805 02:24:16.380954 10752 deprecation_wrapper.py:119] From C:\\Users\\gjbr5\\Anaconda3\\lib\\site-packages\\keras\\backend\\tensorflow_backend.py:4138: The name tf.random_uniform is deprecated. Please use tf.random.uniform instead.\n",
      "\n",
      "W0805 02:24:16.549466 10752 deprecation_wrapper.py:119] From C:\\Users\\gjbr5\\Anaconda3\\lib\\site-packages\\keras\\optimizers.py:790: The name tf.train.Optimizer is deprecated. Please use tf.compat.v1.train.Optimizer instead.\n",
      "\n",
      "W0805 02:24:16.569416 10752 deprecation_wrapper.py:119] From C:\\Users\\gjbr5\\Anaconda3\\lib\\site-packages\\keras\\backend\\tensorflow_backend.py:3376: The name tf.log is deprecated. Please use tf.math.log instead.\n",
      "\n",
      "W0805 02:24:16.574401 10752 deprecation.py:323] From C:\\Users\\gjbr5\\Anaconda3\\lib\\site-packages\\tensorflow\\python\\ops\\nn_impl.py:180: add_dispatch_support.<locals>.wrapper (from tensorflow.python.ops.array_ops) is deprecated and will be removed in a future version.\n",
      "Instructions for updating:\n",
      "Use tf.where in 2.0, which has the same broadcast rule as np.where\n"
     ]
    },
    {
     "name": "stdout",
     "output_type": "stream",
     "text": [
      "_________________________________________________________________\n",
      "Layer (type)                 Output Shape              Param #   \n",
      "=================================================================\n",
      "embedding_1 (Embedding)      (None, None, 32)          320000    \n",
      "_________________________________________________________________\n",
      "lstm_1 (LSTM)                (None, 32)                8320      \n",
      "_________________________________________________________________\n",
      "dense_1 (Dense)              (None, 1)                 33        \n",
      "=================================================================\n",
      "Total params: 328,353\n",
      "Trainable params: 328,353\n",
      "Non-trainable params: 0\n",
      "_________________________________________________________________\n"
     ]
    }
   ],
   "source": [
    "from keras.models import Sequential\n",
    "from keras.layers import Embedding, Dense, LSTM\n",
    "\n",
    "model = Sequential()\n",
    "model.add(Embedding(max_features, 32))\n",
    "model.add(LSTM(32))\n",
    "model.add(Dense(1, activation='sigmoid'))\n",
    "\n",
    "model.compile(optimizer='rmsprop', loss='binary_crossentropy', metrics=['acc'])\n",
    "model.summary()"
   ]
  },
  {
   "cell_type": "markdown",
   "metadata": {},
   "source": [
    "### 훈련"
   ]
  },
  {
   "cell_type": "code",
   "execution_count": 4,
   "metadata": {},
   "outputs": [
    {
     "name": "stderr",
     "output_type": "stream",
     "text": [
      "W0805 02:24:17.135942 10752 deprecation_wrapper.py:119] From C:\\Users\\gjbr5\\Anaconda3\\lib\\site-packages\\keras\\backend\\tensorflow_backend.py:986: The name tf.assign_add is deprecated. Please use tf.compat.v1.assign_add instead.\n",
      "\n"
     ]
    },
    {
     "name": "stdout",
     "output_type": "stream",
     "text": [
      "Train on 20000 samples, validate on 5000 samples\n",
      "Epoch 1/25\n",
      "20000/20000 [==============================] - 48s 2ms/step - loss: 0.4981 - acc: 0.7670 - val_loss: 0.4197 - val_acc: 0.8080\n",
      "Epoch 2/25\n",
      "20000/20000 [==============================] - 54s 3ms/step - loss: 0.2927 - acc: 0.8850 - val_loss: 0.2966 - val_acc: 0.8762\n",
      "Epoch 3/25\n",
      "20000/20000 [==============================] - 53s 3ms/step - loss: 0.2352 - acc: 0.9116 - val_loss: 0.2925 - val_acc: 0.8842\n",
      "Epoch 4/25\n",
      "20000/20000 [==============================] - 57s 3ms/step - loss: 0.2024 - acc: 0.9246 - val_loss: 0.2930 - val_acc: 0.8796\n",
      "Epoch 5/25\n",
      "20000/20000 [==============================] - 56s 3ms/step - loss: 0.1746 - acc: 0.9372 - val_loss: 0.2903 - val_acc: 0.8860\n",
      "Epoch 6/25\n",
      "20000/20000 [==============================] - 55s 3ms/step - loss: 0.1595 - acc: 0.9437 - val_loss: 0.3892 - val_acc: 0.8458\n",
      "Epoch 7/25\n",
      "20000/20000 [==============================] - 56s 3ms/step - loss: 0.1427 - acc: 0.9503 - val_loss: 0.4130 - val_acc: 0.8436\n",
      "Epoch 8/25\n",
      "20000/20000 [==============================] - 56s 3ms/step - loss: 0.1331 - acc: 0.9538 - val_loss: 0.4133 - val_acc: 0.8600\n",
      "Epoch 9/25\n",
      "20000/20000 [==============================] - 55s 3ms/step - loss: 0.1244 - acc: 0.9566 - val_loss: 0.3896 - val_acc: 0.8556\n",
      "Epoch 10/25\n",
      "20000/20000 [==============================] - 55s 3ms/step - loss: 0.1110 - acc: 0.9626 - val_loss: 0.3965 - val_acc: 0.8812\n",
      "Epoch 11/25\n",
      "20000/20000 [==============================] - 56s 3ms/step - loss: 0.1038 - acc: 0.9645 - val_loss: 0.6042 - val_acc: 0.8406\n",
      "Epoch 12/25\n",
      "20000/20000 [==============================] - 57s 3ms/step - loss: 0.1002 - acc: 0.9665 - val_loss: 0.3886 - val_acc: 0.8780\n",
      "Epoch 13/25\n",
      "20000/20000 [==============================] - 56s 3ms/step - loss: 0.0905 - acc: 0.9701 - val_loss: 0.3711 - val_acc: 0.8756\n",
      "Epoch 14/25\n",
      "20000/20000 [==============================] - 56s 3ms/step - loss: 0.0882 - acc: 0.9701 - val_loss: 0.3972 - val_acc: 0.8778\n",
      "Epoch 15/25\n",
      "20000/20000 [==============================] - 56s 3ms/step - loss: 0.0795 - acc: 0.9728 - val_loss: 0.4275 - val_acc: 0.8650\n",
      "Epoch 16/25\n",
      "20000/20000 [==============================] - 56s 3ms/step - loss: 0.0799 - acc: 0.9738 - val_loss: 0.4035 - val_acc: 0.8702\n",
      "Epoch 17/25\n",
      "20000/20000 [==============================] - 58s 3ms/step - loss: 0.0723 - acc: 0.9764 - val_loss: 0.4697 - val_acc: 0.8768\n",
      "Epoch 18/25\n",
      "20000/20000 [==============================] - 57s 3ms/step - loss: 0.0675 - acc: 0.9781 - val_loss: 0.7966 - val_acc: 0.8256\n",
      "Epoch 19/25\n",
      "20000/20000 [==============================] - 61s 3ms/step - loss: 0.0635 - acc: 0.9804 - val_loss: 0.4424 - val_acc: 0.8658\n",
      "Epoch 20/25\n",
      "20000/20000 [==============================] - 58s 3ms/step - loss: 0.0696 - acc: 0.9801 - val_loss: 0.4949 - val_acc: 0.8708\n",
      "Epoch 21/25\n",
      "20000/20000 [==============================] - 60s 3ms/step - loss: 0.0597 - acc: 0.9811 - val_loss: 0.4535 - val_acc: 0.8604\n",
      "Epoch 22/25\n",
      "20000/20000 [==============================] - 58s 3ms/step - loss: 0.0617 - acc: 0.9823 - val_loss: 0.5276 - val_acc: 0.8718\n",
      "Epoch 23/25\n",
      "20000/20000 [==============================] - 57s 3ms/step - loss: 0.0501 - acc: 0.9834 - val_loss: 0.5166 - val_acc: 0.8684\n",
      "Epoch 24/25\n",
      "20000/20000 [==============================] - 58s 3ms/step - loss: 0.0497 - acc: 0.9853 - val_loss: 0.5650 - val_acc: 0.8560\n",
      "Epoch 25/25\n",
      "20000/20000 [==============================] - 56s 3ms/step - loss: 0.0455 - acc: 0.9868 - val_loss: 0.5729 - val_acc: 0.8678\n"
     ]
    }
   ],
   "source": [
    "history = model.fit(input_train, y_train, epochs=25, batch_size=128, validation_split=0.2)"
   ]
  },
  {
   "cell_type": "markdown",
   "metadata": {},
   "source": [
    "### 도식화\n",
    "훈련 결과를 그래프로 출력한다."
   ]
  },
  {
   "cell_type": "code",
   "execution_count": 6,
   "metadata": {},
   "outputs": [
    {
     "data": {
      "image/png": "[encoded data removed]",
      "text/plain": [
       "<Figure size 432x288 with 1 Axes>"
      ]
     },
     "metadata": {
      "needs_background": "light"
     },
     "output_type": "display_data"
    },
    {
     "data": {
      "image/png": "[encoded data removed]",
      "text/plain": [
       "<Figure size 432x288 with 1 Axes>"
      ]
     },
     "metadata": {
      "needs_background": "light"
     },
     "output_type": "display_data"
    }
   ],
   "source": [
    "import matplotlib.pyplot as plt\n",
    "\n",
    "acc = history.history['acc']\n",
    "val_acc = history.history['val_acc']\n",
    "loss = history.history['loss']\n",
    "val_loss = history.history['val_loss']\n",
    "\n",
    "epochs = range(1, len(acc)+1)\n",
    "\n",
    "plt.plot(epochs, acc, 'bo', label='Training acc')\n",
    "plt.plot(epochs, val_acc, 'b', label='Validation acc')\n",
    "plt.title('Training and validation accuracy')\n",
    "plt.legend()\n",
    "\n",
    "plt.figure()\n",
    "\n",
    "plt.plot(epochs, loss, 'bo', label='Training loss')\n",
    "plt.plot(epochs, val_loss, 'b', label='Validation loss')\n",
    "plt.title('Training and validation loss')\n",
    "plt.legend()\n",
    "\n",
    "plt.show()"
   ]
  }
 ],
 "metadata": {
  "kernelspec": {
   "display_name": "Python 3",
   "language": "python",
   "name": "python3"
  },
  "language_info": {
   "codemirror_mode": {
    "name": "ipython",
    "version": 3
   },
   "file_extension": ".py",
   "mimetype": "text/x-python",
   "name": "python",
   "nbconvert_exporter": "python",
   "pygments_lexer": "ipython3",
   "version": "3.7.3"
  }
 },
 "nbformat": 4,
 "nbformat_minor": 2
}
